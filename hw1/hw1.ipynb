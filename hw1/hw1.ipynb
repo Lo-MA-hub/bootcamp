{
 "cells": [
  {
   "cell_type": "markdown",
   "id": "5790ef4f",
   "metadata": {},
   "source": [
    "Homework Questions:\n",
    "\n",
    "1. Write a program that takes a word as an input and print the number of vowels in the word."
   ]
  },
  {
   "cell_type": "code",
   "execution_count": 4,
   "id": "b0578b0d",
   "metadata": {},
   "outputs": [
    {
     "name": "stdout",
     "output_type": "stream",
     "text": [
      "cable has 2 vowels.\n"
     ]
    }
   ],
   "source": [
    "def vowel_num(word):\n",
    "    vowels = ['a', 'o', 'i', 'u', 'e']\n",
    "    vowel_num = 0\n",
    "    for letter in word:\n",
    "        if letter in vowels:\n",
    "            vowel_num += 1\n",
    "    return vowel_num\n",
    "\n",
    "print(\"cable has\", vowel_num(\"cable\"), \"vowels.\")"
   ]
  },
  {
   "cell_type": "markdown",
   "id": "c9006df4",
   "metadata": {},
   "source": [
    "2. Iterate through the following list of animals and print each one in all caps.\n",
    "\n",
    "  animals=['tiger', 'elephant', 'monkey', 'zebra', 'panther']\n"
   ]
  },
  {
   "cell_type": "code",
   "execution_count": 5,
   "id": "e0ee0c6c",
   "metadata": {},
   "outputs": [
    {
     "name": "stdout",
     "output_type": "stream",
     "text": [
      "TIGER\n",
      "ELEPHANT\n",
      "MONKEY\n",
      "ZEBRA\n",
      "PANTHER\n"
     ]
    }
   ],
   "source": [
    "def capitalize(word):\n",
    "    cap_word = ''\n",
    "    for letter in word:\n",
    "        cap_word += letter.upper()\n",
    "    return cap_word\n",
    "\n",
    "animals=['tiger', 'elephant', 'monkey', 'zebra', 'panther']\n",
    "for word in animals:\n",
    "    print(capitalize(word))"
   ]
  },
  {
   "cell_type": "markdown",
   "id": "52cb3e2b",
   "metadata": {},
   "source": [
    "3. Write a program that iterates from 1 to 20, printing each number and whether it's odd or even."
   ]
  },
  {
   "cell_type": "code",
   "execution_count": 7,
   "id": "41323cdf",
   "metadata": {},
   "outputs": [
    {
     "name": "stdout",
     "output_type": "stream",
     "text": [
      "1 is odd.\n",
      "2 is even.\n",
      "3 is odd.\n",
      "4 is even.\n",
      "5 is odd.\n",
      "6 is even.\n",
      "7 is odd.\n",
      "8 is even.\n",
      "9 is odd.\n",
      "10 is even.\n",
      "11 is odd.\n",
      "12 is even.\n",
      "13 is odd.\n",
      "14 is even.\n",
      "15 is odd.\n",
      "16 is even.\n",
      "17 is odd.\n",
      "18 is even.\n",
      "19 is odd.\n",
      "20 is even.\n"
     ]
    }
   ],
   "source": [
    "def iterate_print_determine_oddity(number):\n",
    "    for num in range(number):\n",
    "        if ((num +1) %2 == 0):\n",
    "            print(num + 1, \"is even.\")\n",
    "        else:\n",
    "            print(num + 1, \"is odd.\")\n",
    "iterate_print_determine_oddity(20)"
   ]
  },
  {
   "cell_type": "markdown",
   "id": "4a2d0464",
   "metadata": {},
   "source": [
    "|4. Write a program to check if a string is a palindrome or not."
   ]
  },
  {
   "cell_type": "code",
   "execution_count": 10,
   "id": "4b63b72c",
   "metadata": {},
   "outputs": [
    {
     "name": "stdout",
     "output_type": "stream",
     "text": [
      "aba is palindrom? True\n",
      "cap is palindrome? False\n"
     ]
    }
   ],
   "source": [
    "def detemine_palindrome(word):\n",
    "    for num in range(len(word)):\n",
    "        if (word[num] != word[-1-num]): \n",
    "            return False\n",
    "    return True\n",
    "print(\"aba\", \"is palindrom?\", detemine_palindrome(\"aba\"))\n",
    "print(\"cap\", \"is palindrome?\", detemine_palindrome(\"cap\"))"
   ]
  },
  {
   "cell_type": "markdown",
   "id": "29f58dee",
   "metadata": {},
   "source": [
    "5. Write a function sum_of_integers(a, b) that takes two integers as input from the user and returns their sum. (optional)"
   ]
  },
  {
   "cell_type": "code",
   "execution_count": null,
   "id": "3fcccda5",
   "metadata": {},
   "outputs": [
    {
     "data": {
      "text/plain": [
       "<function __main__.sum_of_integers()>"
      ]
     },
     "execution_count": 12,
     "metadata": {},
     "output_type": "execute_result"
    }
   ],
   "source": [
    "def sum_of_integers():\n",
    "    a = input(\"please enter a: \")\n",
    "    b = input(\"please enter b: \")\n",
    "    return a + b"
   ]
  },
  {
   "cell_type": "code",
   "execution_count": null,
   "id": "97ebf69d",
   "metadata": {},
   "outputs": [],
   "source": []
  }
 ],
 "metadata": {
  "kernelspec": {
   "display_name": "base",
   "language": "python",
   "name": "python3"
  },
  "language_info": {
   "codemirror_mode": {
    "name": "ipython",
    "version": 3
   },
   "file_extension": ".py",
   "mimetype": "text/x-python",
   "name": "python",
   "nbconvert_exporter": "python",
   "pygments_lexer": "ipython3",
   "version": "3.13.5"
  }
 },
 "nbformat": 4,
 "nbformat_minor": 5
}
