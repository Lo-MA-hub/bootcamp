{
 "cells": [
  {
   "cell_type": "markdown",
   "id": "f7df5750",
   "metadata": {},
   "source": [
    "1. Define two custom numpy arrays, say A and B. Generate two new numpy arrays by stacking A and B vertically and horizontally."
   ]
  },
  {
   "cell_type": "code",
   "execution_count": null,
   "id": "d96cd5ba",
   "metadata": {},
   "outputs": [
    {
     "name": "stdout",
     "output_type": "stream",
     "text": [
      "[[1 2 3]]\n",
      "[[4 5 6]]\n",
      "Array A:\n",
      " [[1 2 3]]\n",
      "\n",
      "Array B:\n",
      " [[4 5 6]]\n",
      "\n",
      "Vertically Stacked Array:\n",
      " [[1 2 3]\n",
      " [4 5 6]]\n",
      "\n",
      "Horizontally Stacked Array:\n",
      " [[1 2 3 4 5 6]]\n"
     ]
    }
   ],
   "source": [
    "import numpy as np\n",
    "\n",
    "A = np.array([[1,2,3]])\n",
    "B = np.array([[4,5,6]])\n",
    "# Stack vertically (one on top of the other)\n",
    "vertical_stack = np.vstack((A, B))\n",
    "\n",
    "# Stack horizontally (side by side)\n",
    "horizontal_stack = np.hstack((A, B))\n",
    "\n",
    "print(\"Array A:\\n\", A)\n",
    "print(\"\\nArray B:\\n\", B)\n",
    "print(\"\\nVertically Stacked Array:\\n\", vertical_stack)\n",
    "print(\"\\nHorizontally Stacked Array:\\n\", horizontal_stack)"
   ]
  },
  {
   "cell_type": "markdown",
   "id": "a9a1d978",
   "metadata": {},
   "source": [
    "Find common elements between A and B. [Hint : Intersection of two sets]"
   ]
  },
  {
   "cell_type": "code",
   "execution_count": 6,
   "id": "1e2fccb3",
   "metadata": {},
   "outputs": [
    {
     "name": "stdout",
     "output_type": "stream",
     "text": [
      "Common elements between A and B: [4 5 6]\n"
     ]
    }
   ],
   "source": [
    "A = np.array([[1, 2, 3],\n",
    "              [4, 5, 6]])\n",
    "\n",
    "B = np.array([[4, 5, 6],\n",
    "              [7, 8, 9]])\n",
    "\n",
    "# Find common elements using set intersection\n",
    "common_elements = np.intersect1d(A, B)\n",
    "\n",
    "print(\"Common elements between A and B:\", common_elements)"
   ]
  },
  {
   "cell_type": "markdown",
   "id": "240ff937",
   "metadata": {},
   "source": [
    "Extract all numbers from A which are within a specific range. eg between 5 and 10. [Hint: np.where() might be useful or boolean masks]"
   ]
  },
  {
   "cell_type": "code",
   "execution_count": 7,
   "id": "614fcd0e",
   "metadata": {},
   "outputs": [
    {
     "name": "stdout",
     "output_type": "stream",
     "text": [
      "Original array: [[1 2 3]\n",
      " [4 5 6]]\n",
      "Values between 5 and 10 (np.where): [5 6]\n"
     ]
    }
   ],
   "source": [
    "A = np.array([[1, 2, 3],\n",
    "              [4, 5, 6]])\n",
    "indices = np.where((A >= 5) & (A <= 10))\n",
    "result_where = A[indices]\n",
    "print(\"Original array:\", A)\n",
    "print(\"Values between 5 and 10 (np.where):\", result_where)"
   ]
  },
  {
   "cell_type": "markdown",
   "id": "31f8c522",
   "metadata": {},
   "source": [
    "Filter the rows of iris_2d that has petallength (3rd column) > 1.5 and sepallength (1st column) < 5.0\n",
    "url = 'https://archive.ics.uci.edu/ml/machine-learning-databases/iris/iris.data'\n",
    "iris_2d = np.genfromtxt(url, delimiter=',', dtype='float', usecols=[0,1,2,3])"
   ]
  },
  {
   "cell_type": "code",
   "execution_count": 8,
   "id": "f6ecec94",
   "metadata": {},
   "outputs": [
    {
     "name": "stdout",
     "output_type": "stream",
     "text": [
      "[[4.8 3.4 1.6 0.2]\n",
      " [4.8 3.4 1.9 0.2]\n",
      " [4.7 3.2 1.6 0.2]\n",
      " [4.8 3.1 1.6 0.2]\n",
      " [4.9 2.4 3.3 1. ]\n",
      " [4.9 2.5 4.5 1.7]]\n"
     ]
    }
   ],
   "source": [
    "url = 'https://archive.ics.uci.edu/ml/machine-learning-databases/iris/iris.data'\n",
    "iris_2d = np.genfromtxt(url, delimiter=',', dtype='float', usecols=[0,1,2,3])\n",
    "\n",
    "# Apply filtering conditions\n",
    "filtered_rows = iris_2d[(iris_2d[:, 2] > 1.5) & (iris_2d[:, 0] < 5.0)]\n",
    "\n",
    "print(filtered_rows)\n"
   ]
  },
  {
   "cell_type": "code",
   "execution_count": null,
   "id": "e5911cd0",
   "metadata": {},
   "outputs": [],
   "source": []
  }
 ],
 "metadata": {
  "kernelspec": {
   "display_name": "base",
   "language": "python",
   "name": "python3"
  },
  "language_info": {
   "codemirror_mode": {
    "name": "ipython",
    "version": 3
   },
   "file_extension": ".py",
   "mimetype": "text/x-python",
   "name": "python",
   "nbconvert_exporter": "python",
   "pygments_lexer": "ipython3",
   "version": "3.13.5"
  }
 },
 "nbformat": 4,
 "nbformat_minor": 5
}
